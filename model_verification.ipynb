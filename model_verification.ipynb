{
 "cells": [
  {
   "cell_type": "code",
   "execution_count": 74,
   "id": "ff425f39",
   "metadata": {},
   "outputs": [],
   "source": [
    "from langgraph.graph import StateGraph,START,END\n",
    "from typing import TypedDict\n",
    "from dotenv import load_dotenv\n",
    "from langchain_google_genai import ChatGoogleGenerativeAI\n",
    "from typing import Literal\n",
    "from typing import TypedDict, Literal, Annotated\n",
    "from langchain_core.messages import SystemMessage, HumanMessage\n",
    "import time"
   ]
  },
  {
   "cell_type": "code",
   "execution_count": 75,
   "id": "d2983a32",
   "metadata": {},
   "outputs": [],
   "source": [
    "import pandas as pd\n",
    "import operator"
   ]
  },
  {
   "cell_type": "code",
   "execution_count": 76,
   "id": "c0758ce1",
   "metadata": {},
   "outputs": [],
   "source": [
    "from typing import TypedDict\n",
    "from typing_extensions import Annotated\n",
    "\n",
    "class classification_state(TypedDict):\n",
    "    description: str\n",
    "    class_category: str\n",
    "    class_category_reason: str\n",
    "    response: Annotated[list[str], operator.add]\n",
    "    reason: str"
   ]
  },
  {
   "cell_type": "code",
   "execution_count": 89,
   "id": "1552f900",
   "metadata": {},
   "outputs": [],
   "source": [
    "model = ChatGoogleGenerativeAI(model='gemini-2.5-flash',temperature=0.3)"
   ]
  },
  {
   "cell_type": "code",
   "execution_count": 90,
   "id": "b1736eb7",
   "metadata": {},
   "outputs": [],
   "source": [
    "from pydantic import BaseModel, Field\n",
    "\n",
    "class DescriptionEvaluation(BaseModel):\n",
    "    evaluation: Literal['Pathogenic', 'Benign','Both'] = Field(..., description=\"ACMG Attribute class only accepted values are Pathogenic, Benign, Both\")\n",
    "    reason: str = Field(..., description=\"Reason for the classification.\")\n",
    "\n",
    "class ACMGEvaluation(BaseModel):\n",
    "    evaluation: list[str] = Field(..., description=\"ACMG Attribute\")\n",
    "    reason: str = Field(..., description=\"Reason for the classification.\")\n",
    "\n",
    "class Prompt(BaseModel):\n",
    "    prompt: str = Field(..., description=\"Attribute Prompt\")"
   ]
  },
  {
   "cell_type": "code",
   "execution_count": 91,
   "id": "97707a30",
   "metadata": {},
   "outputs": [],
   "source": [
    "classification_model = model.with_structured_output(DescriptionEvaluation)\n",
    "attribute_model = model.with_structured_output(ACMGEvaluation)\n",
    "prompt_model = model.with_structured_output(Prompt)"
   ]
  },
  {
   "cell_type": "code",
   "execution_count": 92,
   "id": "f4829fec",
   "metadata": {},
   "outputs": [],
   "source": [
    "def description_classification(state: classification_state):\n",
    "    description= state['description']\n",
    "    with open('classification_prompt.txt','r') as file:\n",
    "        prompt = file.readlines()\n",
    "    messages = [\n",
    "    SystemMessage(content=\n",
    "    f\"\"\"{prompt}\"\"\"\n",
    "     ),\n",
    "    HumanMessage(content=f\"\"\" Here is the given description:\n",
    "     {description}, \n",
    "        ########### respond only in the structure format:\n",
    "        evaluation: description=\"ACMG Attribute class only accepted values are Pathogenic, Benign, Both\n",
    "        feedback: Reason for the classification.\n",
    "    \"\"\")\n",
    "    ]\n",
    "    response = classification_model.invoke(messages)\n",
    "    return {\"class_category\":response.evaluation,\"class_category_reason\":response.reason}"
   ]
  },
  {
   "cell_type": "code",
   "execution_count": 93,
   "id": "55043fd0",
   "metadata": {},
   "outputs": [],
   "source": [
    "def benign_classification(state: classification_state):\n",
    "    description= state['description']\n",
    "    with open('benign_prompt.txt','r') as file:\n",
    "        prompt = file.readlines()\n",
    "    messages = [\n",
    "    SystemMessage(content=f\"{prompt}\"),\n",
    "    HumanMessage(content=f\"\"\" Here is the given description:\n",
    "     {description}, \n",
    "        ########### respond only in the structure format:\n",
    "        evaluation: list[str] = Field(..., description=\"ACMG Attribute\")\n",
    "    reason: str = Field(..., description=\"Reason for the classification.\")\n",
    "    \"\"\")\n",
    "    ]\n",
    "    response = attribute_model.invoke(messages)\n",
    "    return {\"response\":response.evaluation,\"reason\":response.reason}"
   ]
  },
  {
   "cell_type": "code",
   "execution_count": 94,
   "id": "c28e8365",
   "metadata": {},
   "outputs": [],
   "source": [
    "def pathogenic_classification(state: classification_state):\n",
    "    description= state['description']\n",
    "    with open('pathogenic_prompt.txt','r') as file:\n",
    "        prompt = file.readlines()\n",
    "    messages = [\n",
    "    SystemMessage(content=f\"{prompt}\"),\n",
    "    HumanMessage(content=f\"\"\" Here is the given description:\n",
    "     {description}, \n",
    "        ########### respond only in the structure format:\n",
    "        evaluation: list[str] = Field(..., description=\"ACMG Attribute\")\n",
    "    reason: str = Field(..., description=\"Reason for the classification.\")\n",
    "    \"\"\")\n",
    "    ]\n",
    "    response = attribute_model.invoke(messages)\n",
    "    return {\"response\":response.evaluation,\"reason\":response.reason}"
   ]
  },
  {
   "cell_type": "code",
   "execution_count": 95,
   "id": "e9e9cf05",
   "metadata": {},
   "outputs": [],
   "source": [
    "def both_classification(state: classification_state):\n",
    "    description= state['description']\n",
    "    with open('both_prompt.txt','r') as file:\n",
    "        prompt = file.readlines()\n",
    "    messages = [\n",
    "    SystemMessage(content=f\"{prompt}\"),\n",
    "    HumanMessage(content=f\"\"\" Here is the given description:\n",
    "     {description}, \n",
    "        ########### respond only in the structure format:\n",
    "        evaluation: list[str] = Field(..., description=\"ACMG Attribute\")\n",
    "    reason: str = Field(..., description=\"Reason for the classification.\")\n",
    "    \"\"\")\n",
    "    ]\n",
    "    response = attribute_model.invoke(messages)\n",
    "    return {\"response\":response.evaluation,\"reason\":response.reason}"
   ]
  },
  {
   "cell_type": "code",
   "execution_count": 96,
   "id": "4193774e",
   "metadata": {},
   "outputs": [],
   "source": [
    "def workflow_selection(state: classification_state):\n",
    "    workflow = {\"next\":\"\"}\n",
    "    if state['class_category'] == 'Benign':\n",
    "        workflow['next'] = \"benign_classification\"\n",
    "    elif state['class_category'] == 'Pathogenic':\n",
    "        workflow['next'] = 'pathogenic_classification'\n",
    "    elif state['class_category'] == 'Both':\n",
    "        workflow['next'] = \"both_classification\"\n",
    "    else:\n",
    "        workflow['next'] = \"end\"\n",
    "    return workflow"
   ]
  },
  {
   "cell_type": "code",
   "execution_count": 97,
   "id": "feb59dd1",
   "metadata": {},
   "outputs": [],
   "source": [
    "graph = StateGraph(classification_state)\n",
    "\n",
    "graph.add_node('description_classification', description_classification)\n",
    "graph.add_node('workflow_selection', workflow_selection)\n",
    "\n",
    "graph.add_node('benign_classification', benign_classification)\n",
    "graph.add_node('pathogenic_classification', pathogenic_classification)\n",
    "graph.add_node('both_classification', both_classification)\n",
    "\n",
    "graph.add_edge(START, 'description_classification')\n",
    "graph.add_edge('description_classification','workflow_selection')\n",
    "\n",
    "graph.add_conditional_edges('workflow_selection',lambda x: x[\"next\"],\n",
    "    {\"end\": END, \"benign_classification\": \"benign_classification\",\"pathogenic_classification\":\"pathogenic_classification\",\"both_classification\":\"both_classification\"})\n",
    "\n",
    "graph.add_edge('both_classification',END)\n",
    "graph.add_edge('benign_classification',END)\n",
    "graph.add_edge('pathogenic_classification',END)\n",
    "\n",
    "workflow = graph.compile()\n"
   ]
  },
  {
   "cell_type": "code",
   "execution_count": 98,
   "id": "7cc8cedd",
   "metadata": {},
   "outputs": [
    {
     "name": "stderr",
     "output_type": "stream",
     "text": [
      "C:\\Users\\rishi\\AppData\\Local\\Temp\\ipykernel_7732\\2288021753.py:3: FutureWarning: DataFrameGroupBy.apply operated on the grouping columns. This behavior is deprecated, and in a future version of pandas the grouping columns will be excluded from the operation. Either pass `include_groups=False` to exclude the groupings or explicitly select the grouping columns after groupby to silence this warning.\n",
      "  df_balanced = df.groupby('class', group_keys=False).apply(\n"
     ]
    }
   ],
   "source": [
    "df=pd.read_csv('final_classification.csv')\n",
    "\n",
    "df_balanced = df.groupby('class', group_keys=False).apply(\n",
    "    lambda x: x.sample(n=33, random_state=42)\n",
    ")\n",
    "df_random = df_balanced.sample(frac=1, random_state=42).reset_index(drop=True)"
   ]
  },
  {
   "cell_type": "code",
   "execution_count": 99,
   "id": "f64fad6f",
   "metadata": {},
   "outputs": [],
   "source": [
    "output_class = []\n",
    "output_response = []\n",
    "for i in df_random.values[:10]:\n",
    "    initial_state = {'description': i[2] }\n",
    "    res=workflow.invoke(initial_state)\n",
    "    output_response.append(res['response'])\n",
    "    output_class.append(res['class_category'])\n",
    "    \n"
   ]
  },
  {
   "cell_type": "code",
   "execution_count": 100,
   "id": "3ff247c0",
   "metadata": {},
   "outputs": [
    {
     "data": {
      "text/plain": [
       "['Both',\n",
       " 'Both',\n",
       " 'Both',\n",
       " 'Pathogenic',\n",
       " 'Pathogenic',\n",
       " 'Pathogenic',\n",
       " 'Pathogenic',\n",
       " 'Benign',\n",
       " 'Pathogenic',\n",
       " 'Benign']"
      ]
     },
     "execution_count": 100,
     "metadata": {},
     "output_type": "execute_result"
    }
   ],
   "source": [
    "output_class"
   ]
  },
  {
   "cell_type": "code",
   "execution_count": 69,
   "id": "a03273c0",
   "metadata": {},
   "outputs": [],
   "source": [
    "class_=df_random.iloc[:10,:]"
   ]
  },
  {
   "cell_type": "code",
   "execution_count": 70,
   "id": "134f36e5",
   "metadata": {},
   "outputs": [
    {
     "data": {
      "text/plain": [
       "array(['Both', 'Both', 'Pathogenic', 'Benign', 'Pathogenic', 'Pathogenic',\n",
       "       'Both', 'Both', 'Benign', 'Benign'], dtype=object)"
      ]
     },
     "execution_count": 70,
     "metadata": {},
     "output_type": "execute_result"
    }
   ],
   "source": [
    "class_['class'].values"
   ]
  },
  {
   "cell_type": "code",
   "execution_count": 71,
   "id": "38e7c450",
   "metadata": {},
   "outputs": [
    {
     "data": {
      "text/plain": [
       "['Both',\n",
       " 'Benign',\n",
       " 'Both',\n",
       " 'Both',\n",
       " 'Pathogenic',\n",
       " 'Pathogenic',\n",
       " 'Pathogenic',\n",
       " 'Benign',\n",
       " 'Both',\n",
       " 'Benign']"
      ]
     },
     "execution_count": 71,
     "metadata": {},
     "output_type": "execute_result"
    }
   ],
   "source": [
    "output_class"
   ]
  },
  {
   "cell_type": "code",
   "execution_count": 72,
   "id": "9a57bfc5",
   "metadata": {},
   "outputs": [],
   "source": [
    "from sklearn.metrics import classification_report"
   ]
  },
  {
   "cell_type": "code",
   "execution_count": 101,
   "id": "9b0e67fa",
   "metadata": {},
   "outputs": [
    {
     "name": "stdout",
     "output_type": "stream",
     "text": [
      "              precision    recall  f1-score   support\n",
      "\n",
      "      Benign       0.50      0.33      0.40         3\n",
      "        Both       0.67      0.50      0.57         4\n",
      "  Pathogenic       0.40      0.67      0.50         3\n",
      "\n",
      "    accuracy                           0.50        10\n",
      "   macro avg       0.52      0.50      0.49        10\n",
      "weighted avg       0.54      0.50      0.50        10\n",
      "\n"
     ]
    }
   ],
   "source": [
    "print(classification_report(class_['class'].values, output_class))"
   ]
  },
  {
   "cell_type": "code",
   "execution_count": null,
   "id": "8bdd6ef7",
   "metadata": {},
   "outputs": [],
   "source": [
    "from sklearn.model_selection import train_test_split"
   ]
  },
  {
   "cell_type": "code",
   "execution_count": null,
   "id": "d506b497",
   "metadata": {},
   "outputs": [],
   "source": [
    "X = df.iloc[:, :-1]\n",
    "y = df['class'] "
   ]
  },
  {
   "cell_type": "code",
   "execution_count": null,
   "id": "698a53c6",
   "metadata": {},
   "outputs": [],
   "source": [
    "X_train, X_test, y_train, y_test = train_test_split(\n",
    "    X, y,\n",
    "    test_size=0.33,\n",
    "    stratify=y,\n",
    "    random_state=42\n",
    ")"
   ]
  },
  {
   "cell_type": "code",
   "execution_count": null,
   "id": "27ec487f",
   "metadata": {},
   "outputs": [],
   "source": [
    "X_train['class']=y_train"
   ]
  },
  {
   "cell_type": "code",
   "execution_count": null,
   "id": "3abffbb2",
   "metadata": {},
   "outputs": [],
   "source": [
    "df_balanced['class'].value_counts()"
   ]
  },
  {
   "cell_type": "code",
   "execution_count": null,
   "id": "99e3ff8b",
   "metadata": {},
   "outputs": [],
   "source": []
  },
  {
   "cell_type": "code",
   "execution_count": null,
   "id": "bdb84ebf",
   "metadata": {},
   "outputs": [],
   "source": [
    "df"
   ]
  },
  {
   "cell_type": "code",
   "execution_count": null,
   "id": "bd591a18",
   "metadata": {},
   "outputs": [],
   "source": []
  }
 ],
 "metadata": {
  "kernelspec": {
   "display_name": "venv",
   "language": "python",
   "name": "python3"
  },
  "language_info": {
   "codemirror_mode": {
    "name": "ipython",
    "version": 3
   },
   "file_extension": ".py",
   "mimetype": "text/x-python",
   "name": "python",
   "nbconvert_exporter": "python",
   "pygments_lexer": "ipython3",
   "version": "3.12.6"
  }
 },
 "nbformat": 4,
 "nbformat_minor": 5
}
