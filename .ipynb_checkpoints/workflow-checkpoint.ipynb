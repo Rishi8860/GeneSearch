{
 "cells": [
  {
   "cell_type": "code",
   "execution_count": 180,
   "id": "f49baa78",
   "metadata": {},
   "outputs": [],
   "source": [
    "from langgraph.graph import StateGraph,START,END\n",
    "from typing import TypedDict\n",
    "from dotenv import load_dotenv\n",
    "from langchain_huggingface import ChatHuggingFace, HuggingFaceEndpoint\n",
    "from langchain_google_genai import ChatGoogleGenerativeAI\n",
    "from typing import Literal"
   ]
  },
  {
   "cell_type": "code",
   "execution_count": 157,
   "id": "471438d3",
   "metadata": {},
   "outputs": [
    {
     "name": "stdout",
     "output_type": "stream",
     "text": [
      "Requirement already satisfied: langchain-google-genai in c:\\users\\rishi\\desktop\\personal\\testing\\venv\\lib\\site-packages (2.1.8)\n",
      "Requirement already satisfied: filetype<2.0.0,>=1.2.0 in c:\\users\\rishi\\desktop\\personal\\testing\\venv\\lib\\site-packages (from langchain-google-genai) (1.2.0)\n",
      "Requirement already satisfied: google-ai-generativelanguage<0.7.0,>=0.6.18 in c:\\users\\rishi\\desktop\\personal\\testing\\venv\\lib\\site-packages (from langchain-google-genai) (0.6.18)\n",
      "Collecting langchain-core<0.4.0,>=0.3.68 (from langchain-google-genai)\n",
      "  Using cached langchain_core-0.3.69-py3-none-any.whl.metadata (5.8 kB)\n",
      "Requirement already satisfied: pydantic<3,>=2 in c:\\users\\rishi\\desktop\\personal\\testing\\venv\\lib\\site-packages (from langchain-google-genai) (2.11.7)\n",
      "Requirement already satisfied: google-api-core!=2.0.*,!=2.1.*,!=2.10.*,!=2.2.*,!=2.3.*,!=2.4.*,!=2.5.*,!=2.6.*,!=2.7.*,!=2.8.*,!=2.9.*,<3.0.0,>=1.34.1 in c:\\users\\rishi\\desktop\\personal\\testing\\venv\\lib\\site-packages (from google-api-core[grpc]!=2.0.*,!=2.1.*,!=2.10.*,!=2.2.*,!=2.3.*,!=2.4.*,!=2.5.*,!=2.6.*,!=2.7.*,!=2.8.*,!=2.9.*,<3.0.0,>=1.34.1->google-ai-generativelanguage<0.7.0,>=0.6.18->langchain-google-genai) (2.25.1)\n",
      "Requirement already satisfied: google-auth!=2.24.0,!=2.25.0,<3.0.0,>=2.14.1 in c:\\users\\rishi\\desktop\\personal\\testing\\venv\\lib\\site-packages (from google-ai-generativelanguage<0.7.0,>=0.6.18->langchain-google-genai) (2.40.3)\n",
      "Requirement already satisfied: proto-plus<2.0.0,>=1.22.3 in c:\\users\\rishi\\desktop\\personal\\testing\\venv\\lib\\site-packages (from google-ai-generativelanguage<0.7.0,>=0.6.18->langchain-google-genai) (1.26.1)\n",
      "Requirement already satisfied: protobuf!=4.21.0,!=4.21.1,!=4.21.2,!=4.21.3,!=4.21.4,!=4.21.5,<7.0.0,>=3.20.2 in c:\\users\\rishi\\desktop\\personal\\testing\\venv\\lib\\site-packages (from google-ai-generativelanguage<0.7.0,>=0.6.18->langchain-google-genai) (6.31.1)\n",
      "Collecting langsmith>=0.3.45 (from langchain-core<0.4.0,>=0.3.68->langchain-google-genai)\n",
      "  Using cached langsmith-0.4.6-py3-none-any.whl.metadata (15 kB)\n",
      "Requirement already satisfied: tenacity!=8.4.0,<10.0.0,>=8.1.0 in c:\\users\\rishi\\desktop\\personal\\testing\\venv\\lib\\site-packages (from langchain-core<0.4.0,>=0.3.68->langchain-google-genai) (8.5.0)\n",
      "Requirement already satisfied: jsonpatch<2.0,>=1.33 in c:\\users\\rishi\\desktop\\personal\\testing\\venv\\lib\\site-packages (from langchain-core<0.4.0,>=0.3.68->langchain-google-genai) (1.33)\n",
      "Requirement already satisfied: PyYAML>=5.3 in c:\\users\\rishi\\desktop\\personal\\testing\\venv\\lib\\site-packages (from langchain-core<0.4.0,>=0.3.68->langchain-google-genai) (6.0.2)\n",
      "Requirement already satisfied: typing-extensions>=4.7 in c:\\users\\rishi\\desktop\\personal\\testing\\venv\\lib\\site-packages (from langchain-core<0.4.0,>=0.3.68->langchain-google-genai) (4.14.1)\n",
      "Requirement already satisfied: packaging>=23.2 in c:\\users\\rishi\\desktop\\personal\\testing\\venv\\lib\\site-packages (from langchain-core<0.4.0,>=0.3.68->langchain-google-genai) (23.2)\n",
      "Requirement already satisfied: annotated-types>=0.6.0 in c:\\users\\rishi\\desktop\\personal\\testing\\venv\\lib\\site-packages (from pydantic<3,>=2->langchain-google-genai) (0.7.0)\n",
      "Requirement already satisfied: pydantic-core==2.33.2 in c:\\users\\rishi\\desktop\\personal\\testing\\venv\\lib\\site-packages (from pydantic<3,>=2->langchain-google-genai) (2.33.2)\n",
      "Requirement already satisfied: typing-inspection>=0.4.0 in c:\\users\\rishi\\desktop\\personal\\testing\\venv\\lib\\site-packages (from pydantic<3,>=2->langchain-google-genai) (0.4.1)\n",
      "Requirement already satisfied: googleapis-common-protos<2.0.0,>=1.56.2 in c:\\users\\rishi\\desktop\\personal\\testing\\venv\\lib\\site-packages (from google-api-core!=2.0.*,!=2.1.*,!=2.10.*,!=2.2.*,!=2.3.*,!=2.4.*,!=2.5.*,!=2.6.*,!=2.7.*,!=2.8.*,!=2.9.*,<3.0.0,>=1.34.1->google-api-core[grpc]!=2.0.*,!=2.1.*,!=2.10.*,!=2.2.*,!=2.3.*,!=2.4.*,!=2.5.*,!=2.6.*,!=2.7.*,!=2.8.*,!=2.9.*,<3.0.0,>=1.34.1->google-ai-generativelanguage<0.7.0,>=0.6.18->langchain-google-genai) (1.70.0)\n",
      "Requirement already satisfied: requests<3.0.0,>=2.18.0 in c:\\users\\rishi\\desktop\\personal\\testing\\venv\\lib\\site-packages (from google-api-core!=2.0.*,!=2.1.*,!=2.10.*,!=2.2.*,!=2.3.*,!=2.4.*,!=2.5.*,!=2.6.*,!=2.7.*,!=2.8.*,!=2.9.*,<3.0.0,>=1.34.1->google-api-core[grpc]!=2.0.*,!=2.1.*,!=2.10.*,!=2.2.*,!=2.3.*,!=2.4.*,!=2.5.*,!=2.6.*,!=2.7.*,!=2.8.*,!=2.9.*,<3.0.0,>=1.34.1->google-ai-generativelanguage<0.7.0,>=0.6.18->langchain-google-genai) (2.32.4)\n",
      "Requirement already satisfied: grpcio<2.0.0,>=1.33.2 in c:\\users\\rishi\\desktop\\personal\\testing\\venv\\lib\\site-packages (from google-api-core[grpc]!=2.0.*,!=2.1.*,!=2.10.*,!=2.2.*,!=2.3.*,!=2.4.*,!=2.5.*,!=2.6.*,!=2.7.*,!=2.8.*,!=2.9.*,<3.0.0,>=1.34.1->google-ai-generativelanguage<0.7.0,>=0.6.18->langchain-google-genai) (1.73.1)\n",
      "Requirement already satisfied: grpcio-status<2.0.0,>=1.33.2 in c:\\users\\rishi\\desktop\\personal\\testing\\venv\\lib\\site-packages (from google-api-core[grpc]!=2.0.*,!=2.1.*,!=2.10.*,!=2.2.*,!=2.3.*,!=2.4.*,!=2.5.*,!=2.6.*,!=2.7.*,!=2.8.*,!=2.9.*,<3.0.0,>=1.34.1->google-ai-generativelanguage<0.7.0,>=0.6.18->langchain-google-genai) (1.73.1)\n",
      "Requirement already satisfied: cachetools<6.0,>=2.0.0 in c:\\users\\rishi\\desktop\\personal\\testing\\venv\\lib\\site-packages (from google-auth!=2.24.0,!=2.25.0,<3.0.0,>=2.14.1->google-ai-generativelanguage<0.7.0,>=0.6.18->langchain-google-genai) (5.5.2)\n",
      "Requirement already satisfied: pyasn1-modules>=0.2.1 in c:\\users\\rishi\\desktop\\personal\\testing\\venv\\lib\\site-packages (from google-auth!=2.24.0,!=2.25.0,<3.0.0,>=2.14.1->google-ai-generativelanguage<0.7.0,>=0.6.18->langchain-google-genai) (0.4.2)\n",
      "Requirement already satisfied: rsa<5,>=3.1.4 in c:\\users\\rishi\\desktop\\personal\\testing\\venv\\lib\\site-packages (from google-auth!=2.24.0,!=2.25.0,<3.0.0,>=2.14.1->google-ai-generativelanguage<0.7.0,>=0.6.18->langchain-google-genai) (4.9.1)\n",
      "Requirement already satisfied: jsonpointer>=1.9 in c:\\users\\rishi\\desktop\\personal\\testing\\venv\\lib\\site-packages (from jsonpatch<2.0,>=1.33->langchain-core<0.4.0,>=0.3.68->langchain-google-genai) (3.0.0)\n",
      "Requirement already satisfied: httpx<1,>=0.23.0 in c:\\users\\rishi\\desktop\\personal\\testing\\venv\\lib\\site-packages (from langsmith>=0.3.45->langchain-core<0.4.0,>=0.3.68->langchain-google-genai) (0.28.1)\n",
      "Requirement already satisfied: orjson<4.0.0,>=3.9.14 in c:\\users\\rishi\\desktop\\personal\\testing\\venv\\lib\\site-packages (from langsmith>=0.3.45->langchain-core<0.4.0,>=0.3.68->langchain-google-genai) (3.11.0)\n",
      "Requirement already satisfied: requests-toolbelt<2.0.0,>=1.0.0 in c:\\users\\rishi\\desktop\\personal\\testing\\venv\\lib\\site-packages (from langsmith>=0.3.45->langchain-core<0.4.0,>=0.3.68->langchain-google-genai) (1.0.0)\n",
      "Requirement already satisfied: zstandard<0.24.0,>=0.23.0 in c:\\users\\rishi\\desktop\\personal\\testing\\venv\\lib\\site-packages (from langsmith>=0.3.45->langchain-core<0.4.0,>=0.3.68->langchain-google-genai) (0.23.0)\n",
      "Requirement already satisfied: anyio in c:\\users\\rishi\\desktop\\personal\\testing\\venv\\lib\\site-packages (from httpx<1,>=0.23.0->langsmith>=0.3.45->langchain-core<0.4.0,>=0.3.68->langchain-google-genai) (4.9.0)\n",
      "Requirement already satisfied: certifi in c:\\users\\rishi\\desktop\\personal\\testing\\venv\\lib\\site-packages (from httpx<1,>=0.23.0->langsmith>=0.3.45->langchain-core<0.4.0,>=0.3.68->langchain-google-genai) (2025.7.14)\n",
      "Requirement already satisfied: httpcore==1.* in c:\\users\\rishi\\desktop\\personal\\testing\\venv\\lib\\site-packages (from httpx<1,>=0.23.0->langsmith>=0.3.45->langchain-core<0.4.0,>=0.3.68->langchain-google-genai) (1.0.9)\n",
      "Requirement already satisfied: idna in c:\\users\\rishi\\desktop\\personal\\testing\\venv\\lib\\site-packages (from httpx<1,>=0.23.0->langsmith>=0.3.45->langchain-core<0.4.0,>=0.3.68->langchain-google-genai) (3.10)\n",
      "Requirement already satisfied: h11>=0.16 in c:\\users\\rishi\\desktop\\personal\\testing\\venv\\lib\\site-packages (from httpcore==1.*->httpx<1,>=0.23.0->langsmith>=0.3.45->langchain-core<0.4.0,>=0.3.68->langchain-google-genai) (0.16.0)\n",
      "Requirement already satisfied: pyasn1<0.7.0,>=0.6.1 in c:\\users\\rishi\\desktop\\personal\\testing\\venv\\lib\\site-packages (from pyasn1-modules>=0.2.1->google-auth!=2.24.0,!=2.25.0,<3.0.0,>=2.14.1->google-ai-generativelanguage<0.7.0,>=0.6.18->langchain-google-genai) (0.6.1)\n",
      "Requirement already satisfied: charset_normalizer<4,>=2 in c:\\users\\rishi\\desktop\\personal\\testing\\venv\\lib\\site-packages (from requests<3.0.0,>=2.18.0->google-api-core!=2.0.*,!=2.1.*,!=2.10.*,!=2.2.*,!=2.3.*,!=2.4.*,!=2.5.*,!=2.6.*,!=2.7.*,!=2.8.*,!=2.9.*,<3.0.0,>=1.34.1->google-api-core[grpc]!=2.0.*,!=2.1.*,!=2.10.*,!=2.2.*,!=2.3.*,!=2.4.*,!=2.5.*,!=2.6.*,!=2.7.*,!=2.8.*,!=2.9.*,<3.0.0,>=1.34.1->google-ai-generativelanguage<0.7.0,>=0.6.18->langchain-google-genai) (3.4.2)\n",
      "Requirement already satisfied: urllib3<3,>=1.21.1 in c:\\users\\rishi\\desktop\\personal\\testing\\venv\\lib\\site-packages (from requests<3.0.0,>=2.18.0->google-api-core!=2.0.*,!=2.1.*,!=2.10.*,!=2.2.*,!=2.3.*,!=2.4.*,!=2.5.*,!=2.6.*,!=2.7.*,!=2.8.*,!=2.9.*,<3.0.0,>=1.34.1->google-api-core[grpc]!=2.0.*,!=2.1.*,!=2.10.*,!=2.2.*,!=2.3.*,!=2.4.*,!=2.5.*,!=2.6.*,!=2.7.*,!=2.8.*,!=2.9.*,<3.0.0,>=1.34.1->google-ai-generativelanguage<0.7.0,>=0.6.18->langchain-google-genai) (2.5.0)\n",
      "Requirement already satisfied: sniffio>=1.1 in c:\\users\\rishi\\desktop\\personal\\testing\\venv\\lib\\site-packages (from anyio->httpx<1,>=0.23.0->langsmith>=0.3.45->langchain-core<0.4.0,>=0.3.68->langchain-google-genai) (1.3.1)\n",
      "Using cached langchain_core-0.3.69-py3-none-any.whl (441 kB)\n",
      "Using cached langsmith-0.4.6-py3-none-any.whl (367 kB)\n",
      "Installing collected packages: langsmith, langchain-core\n",
      "  Attempting uninstall: langsmith\n",
      "    Found existing installation: langsmith 0.1.147\n",
      "    Uninstalling langsmith-0.1.147:\n",
      "      Successfully uninstalled langsmith-0.1.147\n",
      "  Attempting uninstall: langchain-core\n",
      "    Found existing installation: langchain-core 0.1.53\n",
      "    Uninstalling langchain-core-0.1.53:\n",
      "      Successfully uninstalled langchain-core-0.1.53\n",
      "Successfully installed langchain-core-0.3.69 langsmith-0.4.6\n"
     ]
    },
    {
     "name": "stderr",
     "output_type": "stream",
     "text": [
      "ERROR: pip's dependency resolver does not currently take into account all the packages that are installed. This behaviour is the source of the following dependency conflicts.\n",
      "langchain 0.1.16 requires langchain-core<0.2.0,>=0.1.42, but you have langchain-core 0.3.69 which is incompatible.\n",
      "langchain 0.1.16 requires langsmith<0.2.0,>=0.1.17, but you have langsmith 0.4.6 which is incompatible.\n",
      "langchain-community 0.0.38 requires langchain-core<0.2.0,>=0.1.52, but you have langchain-core 0.3.69 which is incompatible.\n",
      "langchain-community 0.0.38 requires langsmith<0.2.0,>=0.1.0, but you have langsmith 0.4.6 which is incompatible.\n",
      "langchain-text-splitters 0.0.2 requires langchain-core<0.3,>=0.1.28, but you have langchain-core 0.3.69 which is incompatible.\n",
      "\n",
      "[notice] A new release of pip is available: 24.2 -> 25.1.1\n",
      "[notice] To update, run: python.exe -m pip install --upgrade pip\n"
     ]
    }
   ],
   "source": [
    "!pip install langchain-google-genai"
   ]
  },
  {
   "cell_type": "code",
   "execution_count": 128,
   "id": "121788fd",
   "metadata": {},
   "outputs": [],
   "source": [
    "from models import Classification,Response\n",
    "from langchain_core.output_parsers import PydanticOutputParser\n",
    "from langchain_core.prompts import PromptTemplate\n"
   ]
  },
  {
   "cell_type": "code",
   "execution_count": 129,
   "id": "87ea0dcd",
   "metadata": {},
   "outputs": [
    {
     "data": {
      "text/plain": [
       "True"
      ]
     },
     "execution_count": 129,
     "metadata": {},
     "output_type": "execute_result"
    }
   ],
   "source": [
    "load_dotenv()"
   ]
  },
  {
   "cell_type": "code",
   "execution_count": 155,
   "id": "50d9c770",
   "metadata": {},
   "outputs": [],
   "source": [
    "# llm = HuggingFaceEndpoint(\n",
    "#     repo_id=\"google/gemma-2-2b-it\",\n",
    "#     task=\"text-generation\"\n",
    "#     )\n",
    "# model = ChatHuggingFace(llm=llm)"
   ]
  },
  {
   "cell_type": "code",
   "execution_count": 159,
   "id": "b34435f4",
   "metadata": {},
   "outputs": [],
   "source": [
    "model = ChatGoogleGenerativeAI(model='gemini-1.5-flash', convert_system_message_to_human=True)"
   ]
  },
  {
   "cell_type": "code",
   "execution_count": 160,
   "id": "392d12d5",
   "metadata": {},
   "outputs": [],
   "source": [
    "class Attribute(TypedDict):\n",
    "    class_: str\n",
    "    reason: str\n",
    "class AttributesState(TypedDict):\n",
    "    query: str\n",
    "    category: str\n",
    "    classification: list"
   ]
  },
  {
   "cell_type": "code",
   "execution_count": 161,
   "id": "643d2da5",
   "metadata": {},
   "outputs": [],
   "source": [
    "def query_classification(state: AttributesState):\n",
    "    query = state['query']\n",
    "\n",
    "    # Output parser\n",
    "    parser = PydanticOutputParser(pydantic_object=Classification)\n",
    "\n",
    "    # Prompt template\n",
    "    template = PromptTemplate(\n",
    "        template=(\n",
    "            \"You are an expert in genetic variant interpretation.\\n\"\n",
    "            \"Based on the following query, classify the variant according to ACMG/AMP guidelines.\\n\\n\"\n",
    "            \"Respond ONLY in the following format:\\n\"\n",
    "            \"{format_instructions}\\n\\n\"\n",
    "            \"Query: {query}\"\n",
    "        ),\n",
    "        input_variables=['query'],\n",
    "        partial_variables={'format_instructions': parser.get_format_instructions()}\n",
    "    )\n",
    "\n",
    "    # Chain together\n",
    "    chain = template | model | parser\n",
    "\n",
    "    # Run chain\n",
    "    final_result = chain.invoke({'query': query})\n",
    "\n",
    "    state['category'] = final_result.model_dump()['class_']\n",
    "    # state['category']=final_result['class_']\n",
    "    return state"
   ]
  },
  {
   "cell_type": "code",
   "execution_count": null,
   "id": "0e7582b1",
   "metadata": {},
   "outputs": [],
   "source": [
    "def pathogenic_classification(state: AttributesState):\n",
    "    query= state['query']\n",
    "    parser = PydanticOutputParser(pydantic_object=Response)\n",
    "    template = PromptTemplate(\n",
    "        template = (\n",
    "            \"You are a Expert in Genetic variant interpretation. \\n\"\n",
    "            \"Based on the following query, classify the variant according to ACMG/AMP guidelines in the following creteria : PVS1 – Very Strong , PS1 – Strong , PS2 – Strong , PS3 – Strong , PS4 – Strong , PM1 – Moderate , PM2 – Moderate , PM3 – Moderate , PM4 – Moderate , PM5 – Moderate , PM6 – Moderate , PP1 – Supporting , PP2 – Supporting , PP3 – Supporting , PP4 – Supporting , PP5 – Supporting (Deprecated). and also give the reason.\\n\\n\"\n",
    "            \"Respond ONLY in the following format:\\n\"\n",
    "            \"{format_instructions}\\n\\n\"\n",
    "            \"Query: {query}\"\n",
    "        ),\n",
    "        input_variables=['query'],\n",
    "        partial_variables={'format_instructions': parser.get_format_instructions()}\n",
    "    )\n",
    "    chain = template | model | parser\n",
    "\n",
    "    # Run chain\n",
    "    final_result = chain.invoke({'query': query})\n",
    "\n",
    "    return {'classification':final_result.model_dump()['result']}\n"
   ]
  },
  {
   "cell_type": "code",
   "execution_count": null,
   "id": "af28fed5",
   "metadata": {},
   "outputs": [],
   "source": [
    "def benign_classification(state: AttributesState):\n",
    "    query= state['query']\n",
    "    parser = PydanticOutputParser(pydantic_object=Response)\n",
    "    template = PromptTemplate(\n",
    "        template = (\n",
    "            \"You are a Expert in Genetic variant interpretation. \\n\"\n",
    "            \"Based on the following query, classify the variant according to ACMG/AMP guidelines in the following creteria \"\n",
    "            \"BA1 (Stand-alone) , BS1 (Strong) , BS2 (Strong) , BS3 (Strong) , BS4 (Strong) , \\nBP1–BP7 (Supporting) \\nBP1: Missense in a gene where only truncating variants cause disease.\"\n",
    "            \"\\nBP2: Observed in trans with a pathogenic variant (dominant disorder).\\nBP3: In-frame indels in non-conserved regions.\\nBP4: Multiple tools predict benign.\\nBP5: Variant found in individual with alternate cause of disease.\\nBP6: Reputable source reports benign without supporting data.\\nBP7: Synonymous variant with no predicted splicing effect.. and also give the reason.\\n\\n\"\n",
    "            \"Respond ONLY in the following format:\\n\"\n",
    "            \"{format_instructions}\\n\\n\"\n",
    "            \"Query: {query}\"\n",
    "        ),\n",
    "        input_variables=['query'],\n",
    "        partial_variables={'format_instructions': parser.get_format_instructions()}\n",
    "    )\n",
    "    chain = template | model | parser\n",
    "\n",
    "    # Run chain\n",
    "    final_result = chain.invoke({'query': query})\n",
    "\n",
    "\n",
    "    return {'classification':final_result.model_dump()['result']}\n"
   ]
  },
  {
   "cell_type": "code",
   "execution_count": null,
   "id": "acf57bd0",
   "metadata": {},
   "outputs": [],
   "source": [
    "def not_valid_classification(state: AttributesState):\n",
    "    return {'classification':[]}\n"
   ]
  },
  {
   "cell_type": "code",
   "execution_count": 197,
   "id": "e6b35de7",
   "metadata": {},
   "outputs": [],
   "source": [
    "def category_classification(state: AttributesState) -> Literal[\"pathogenic_classification\", \"benign_classification\",\"not_valid_classification\"]:\n",
    "    if state['category'] == \"Pathogenic\":\n",
    "        return 'pathogenic_classification'\n",
    "    elif state['category'] == \"Benign\":\n",
    "        return 'benign_classification'\n",
    "    else:\n",
    "        return 'not_valid_classification'\n"
   ]
  },
  {
   "cell_type": "code",
   "execution_count": 198,
   "id": "c6e1be4c",
   "metadata": {},
   "outputs": [],
   "source": [
    "graph = StateGraph(AttributesState)\n",
    "\n",
    "graph.add_node('query_classification',query_classification)\n",
    "graph.add_node('pathogenic_classification',pathogenic_classification)\n",
    "graph.add_node('benign_classification',benign_classification)\n",
    "graph.add_node('not_valid_classification',not_valid_classification)\n",
    "\n",
    "graph.add_edge(START,'query_classification')\n",
    "graph.add_conditional_edges('query_classification',category_classification)\n",
    "graph.add_edge('pathogenic_classification',END)\n",
    "graph.add_edge('benign_classification',END)\n",
    "\n",
    "workflow = graph.compile()"
   ]
  },
  {
   "cell_type": "code",
   "execution_count": 199,
   "id": "0a9862f3",
   "metadata": {},
   "outputs": [
    {
     "data": {
      "image/png": "[encoded data removed]",
      "text/plain": [
       "<langgraph.graph.state.CompiledStateGraph object at 0x0000017A105B21E0>"
      ]
     },
     "execution_count": 199,
     "metadata": {},
     "output_type": "execute_result"
    }
   ],
   "source": [
    "workflow"
   ]
  },
  {
   "cell_type": "code",
   "execution_count": 200,
   "id": "146aa908",
   "metadata": {},
   "outputs": [
    {
     "name": "stderr",
     "output_type": "stream",
     "text": [
      "c:\\Users\\rishi\\Desktop\\Personal\\Testing\\venv\\Lib\\site-packages\\langchain_google_genai\\chat_models.py:483: UserWarning: Convert_system_message_to_human will be deprecated!\n",
      "  warnings.warn(\"Convert_system_message_to_human will be deprecated!\")\n",
      "c:\\Users\\rishi\\Desktop\\Personal\\Testing\\venv\\Lib\\site-packages\\langchain_google_genai\\chat_models.py:483: UserWarning: Convert_system_message_to_human will be deprecated!\n",
      "  warnings.warn(\"Convert_system_message_to_human will be deprecated!\")\n"
     ]
    },
    {
     "data": {
      "text/plain": [
       "{'query': 'Missense variant affects the same residue as a previously known pathogenic change',\n",
       " 'category': 'Pathogenic',\n",
       " 'classification': [{'attribute': 'PS3',\n",
       "   'reason': 'The missense variant affects the same residue as a previously known pathogenic variant.  This strongly suggests that the residue is critical for protein function, and alteration at this specific location is likely to be damaging.'}]}"
      ]
     },
     "execution_count": 200,
     "metadata": {},
     "output_type": "execute_result"
    }
   ],
   "source": [
    "workflow.invoke({'query':'Missense variant affects the same residue as a previously known pathogenic change'})"
   ]
  },
  {
   "cell_type": "code",
   "execution_count": null,
   "id": "15d29904",
   "metadata": {},
   "outputs": [],
   "source": []
  },
  {
   "cell_type": "code",
   "execution_count": null,
   "id": "ab0cd845",
   "metadata": {},
   "outputs": [],
   "source": []
  }
 ],
 "metadata": {
  "kernelspec": {
   "display_name": "venv",
   "language": "python",
   "name": "python3"
  },
  "language_info": {
   "codemirror_mode": {
    "name": "ipython",
    "version": 3
   },
   "file_extension": ".py",
   "mimetype": "text/x-python",
   "name": "python",
   "nbconvert_exporter": "python",
   "pygments_lexer": "ipython3",
   "version": "3.12.6"
  }
 },
 "nbformat": 4,
 "nbformat_minor": 5
}
